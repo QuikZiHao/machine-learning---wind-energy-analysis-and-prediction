{
 "cells": [
  {
   "cell_type": "code",
   "execution_count": 106,
   "metadata": {},
   "outputs": [],
   "source": [
    "#output line initial module\n",
    "class outputFunction():\n",
    "    def __init__(self,constant,Actualwind,Humidity,WindSpeed,WindDirection,Temperature,Pressure):\n",
    "        self.coeff = [constant,Actualwind,Humidity,WindSpeed,WindDirection,Temperature,Pressure]\n",
    "        self.root = [1,1,1,1,1,1,1]"
   ]
  },
  {
   "cell_type": "code",
   "execution_count": 107,
   "metadata": {},
   "outputs": [],
   "source": [
    "# 数据标准模型\n",
    "class data():\n",
    "    def __init__(self,actualWindSpeed,Humidity,WindSpeed,WindDirection,Temperature,Pressure,Power,average,standardDeviation):\n",
    "        self.GeneratedPower = Power\n",
    "        self.ActualwindSpeed = (actualWindSpeed-average[0])/standardDeviation[0]\n",
    "        self.Humidity = (Humidity-average[1])/standardDeviation[1]\n",
    "        self.WindSpeed = (WindSpeed-average[2])/standardDeviation[2]\n",
    "        self.WindDirection = (WindDirection-average[3])/standardDeviation[3]\n",
    "        self.Temperature = (Temperature-average[4])/standardDeviation[4]\n",
    "        self.Pressure = (Pressure-average[5])/standardDeviation[5]\n",
    "\n"
   ]
  },
  {
   "cell_type": "code",
   "execution_count": 120,
   "metadata": {},
   "outputs": [],
   "source": [
    "#read data\n",
    "import pandas as pd\n",
    "trainingSet = pd.read_excel(\"2018.xlsx\") \n",
    "trainingSet = trainingSet.to_dict('records')\n",
    "\n"
   ]
  },
  {
   "cell_type": "code",
   "execution_count": 109,
   "metadata": {},
   "outputs": [],
   "source": [
    "#标准化数据计算\n",
    "average = [0,0,0,0,0,0]\n",
    "size = len(trainingSet)\n",
    "for row in trainingSet:\n",
    "    average[0] += row[\"Actual Wind Speed\"] \n",
    "    average[1] += row[\"Humidity\"]\n",
    "    average[2] += row[\"Wind Speed\"]\n",
    "    average[3] += row[\"Wind Direction\"]\n",
    "    average[4] += row[\"Temperature\"]\n",
    "    average[5] += row[\"Pressure\"]\n",
    "for i in range(len(average)):\n",
    "    average[i] = average[i]/size\n",
    "standardDeviation = [0,0,0,0,0,0]\n",
    "for row in trainingSet:\n",
    "    standardDeviation[0] += (row[\"Actual Wind Speed\"]-average[0])**2 \n",
    "    standardDeviation[1] += (row[\"Humidity\"]-average[1])**2 \n",
    "    standardDeviation[2] += (row[\"Wind Speed\"]-average[2])**2 \n",
    "    standardDeviation[3] += (row[\"Wind Direction\"]-average[3])**2 \n",
    "    standardDeviation[4] += (row[\"Temperature\"]-average[4])**2 \n",
    "    standardDeviation[5] += (row[\"Pressure\"]-average[5])**2 \n",
    "for i in range(len(standardDeviation)):\n",
    "    standardDeviation[i] = (standardDeviation[i]/(size-1))**0.5\n",
    "    "
   ]
  },
  {
   "cell_type": "code",
   "execution_count": 110,
   "metadata": {},
   "outputs": [],
   "source": [
    "#将数据放进class中转换成 标准化数据\n",
    "dataSet = []\n",
    "for row in trainingSet:\n",
    "    dataSet.append(data(row[\"Actual Wind Speed\"],row[\"Humidity\"],row[\"Wind Speed\"],row[\"Wind Direction\"],row[\"Temperature\"],row[\"Pressure\"],row[\"Generated Power\"],average,standardDeviation))\n",
    "del trainingSet\n"
   ]
  },
  {
   "cell_type": "code",
   "execution_count": 111,
   "metadata": {},
   "outputs": [],
   "source": [
    "global dataSet"
   ]
  },
  {
   "cell_type": "code",
   "execution_count": 115,
   "metadata": {},
   "outputs": [],
   "source": [
    "#计算costFunction\n",
    "def calculate(dataSet,lasthFunction):\n",
    "    costFunction = 0\n",
    "    for i in dataSet:\n",
    "        #temp use to calculate the conv of each data\n",
    "        temp = lasthFunction.coeff[0]+(lasthFunction.coeff[1]*i.ActualwindSpeed)**lasthFunction.root[1]+(lasthFunction.coeff[2]*i.Humidity)**lasthFunction.root[2]+(lasthFunction.coeff[3]*i.WindSpeed)**lasthFunction.root[3]+(lasthFunction.coeff[4]*i.Temperature)**lasthFunction.root[4]+(lasthFunction.coeff[5]*i.Pressure)**lasthFunction.root[5]\n",
    "        temp = temp -i.GeneratedPower\n",
    "        temp = temp ** 2\n",
    "        costFunction = costFunction + temp\n",
    "    costFunction = costFunction/(2*len(dataSet))\n",
    "    return costFunction"
   ]
  },
  {
   "cell_type": "code",
   "execution_count": 116,
   "metadata": {},
   "outputs": [],
   "source": [
    "#计算斜率\n",
    "def derivative(locate,lasthFunction):\n",
    "    total = 0\n",
    "    for i in dataSet:\n",
    "        variable = [1,i.ActualwindSpeed,i.Humidity,i.WindSpeed,i.WindDirection,i.Temperature,i.Pressure,i.GeneratedPower]\n",
    "        temp = 0\n",
    "        for i in range(len(variable)-1):\n",
    "            temp = temp + variable[i]*lasthFunction.coeff[i]*lasthFunction.root[i]\n",
    "        temp = temp - variable[-1] \n",
    "        temp = temp*variable[locate]*lasthFunction.root[locate]\n",
    "        total = total + temp\n",
    "    gradient = total/(len(dataSet))\n",
    "    return gradient\n",
    "\n",
    "    "
   ]
  },
  {
   "cell_type": "code",
   "execution_count": null,
   "metadata": {},
   "outputs": [],
   "source": [
    "#initial\n",
    "lasthFunction = outputFunction(1,1,1,1,1,1,1)\n",
    "costFunction = calculate(dataSet,lasthFunction)\n",
    "learningRate = 0.1\n",
    "gradient = [0,0,0,0,0,0,0]\n",
    "#gradient decent loop,while suatable stop\n",
    "while(costFunction != 0):\n",
    "    #temp = coeff of variable\n",
    "    temp = [lasthFunction.coeff[0],lasthFunction.coeff[1],lasthFunction.coeff[2],lasthFunction.coeff[3],lasthFunction.coeff[4],lasthFunction.coeff[5],lasthFunction.coeff[6]]\n",
    "    for i in range (len(temp)):\n",
    "        gradient[i] = derivative(i,lasthFunction)\n",
    "        temp[i]= temp[i] - learningRate*gradient[i]\n",
    "    print(gradient)\n",
    "    lasthFunction = outputFunction(temp[0],temp[1],temp[2],temp[3],temp[4],temp[5],temp[6])\n",
    "    costFunction = calculate(dataSet,lasthFunction)\n",
    "\n"
   ]
  },
  {
   "cell_type": "code",
   "execution_count": 118,
   "metadata": {},
   "outputs": [
    {
     "data": {
      "text/plain": [
       "[16.73356790483466,\n",
       " 11.602593431782172,\n",
       " 1.4778504842742912,\n",
       " 2.091999359729413,\n",
       " 1.0196131332074578,\n",
       " -2.0391635433127577,\n",
       " -0.5772943894673654]"
      ]
     },
     "execution_count": 118,
     "metadata": {},
     "output_type": "execute_result"
    }
   ],
   "source": [
    "#final function after regression\n",
    "lasthFunction.coeff\n"
   ]
  },
  {
   "cell_type": "code",
   "execution_count": 119,
   "metadata": {},
   "outputs": [
    {
     "name": "stdout",
     "output_type": "stream",
     "text": [
      "0.9260664636309612\n"
     ]
    }
   ],
   "source": [
    "#verify\n",
    "testSet = pd.read_excel(\"2019 .xlsx\") \n",
    "testSet = testSet.values.tolist()\n",
    "ems = []\n",
    "predict = []\n",
    "goal = []\n",
    "total = 0\n",
    "for i in testSet:\n",
    "    temp = data(i[2],i[3],i[4],i[5],i[6],i[7],i[1],average,standardDeviation)\n",
    "    ans = lasthFunction.coeff[0]+temp.ActualwindSpeed*lasthFunction.coeff[1]+temp.Humidity*lasthFunction.coeff[2]+temp.WindSpeed*lasthFunction.coeff[3]+temp.WindDirection*lasthFunction.coeff[4]+temp.Temperature*lasthFunction.coeff[5]+temp.Pressure*lasthFunction.coeff[6]\n",
    "    predict.append(ans)\n",
    "    accurancy = (ans-temp.GeneratedPower)/temp.GeneratedPower*100\n",
    "    goal.append(temp.GeneratedPower)\n",
    "    total = total + (ans - temp.GeneratedPower)**2\n",
    "rmse = (total/len(testSet))** 0.5\n",
    "print(1-(rmse/49.5))\n",
    "\n",
    "\n"
   ]
  },
  {
   "cell_type": "code",
   "execution_count": null,
   "metadata": {},
   "outputs": [],
   "source": []
  }
 ],
 "metadata": {
  "interpreter": {
   "hash": "9264711d228fe35bbbcc49f95b90edfc376310506fc14cf04059be83b6263525"
  },
  "kernelspec": {
   "display_name": "Python 3.9.1 64-bit",
   "language": "python",
   "name": "python3"
  },
  "language_info": {
   "codemirror_mode": {
    "name": "ipython",
    "version": 3
   },
   "file_extension": ".py",
   "mimetype": "text/x-python",
   "name": "python",
   "nbconvert_exporter": "python",
   "pygments_lexer": "ipython3",
   "version": "3.9.1"
  },
  "orig_nbformat": 4
 },
 "nbformat": 4,
 "nbformat_minor": 2
}
